{
 "cells": [
  {
   "cell_type": "markdown",
   "id": "86b04290",
   "metadata": {},
   "source": [
    "# Data Science Tools and Ecosystem"
   ]
  },
  {
   "cell_type": "markdown",
   "id": "ffcbc4eb",
   "metadata": {},
   "source": [
    "In this notebook, Data Science Tools and Ecosystem are summarized"
   ]
  },
  {
   "cell_type": "markdown",
   "id": "68576489",
   "metadata": {},
   "source": [
    "Some of the popular languages that Data Scientists use are:\n",
    "1. Python\n",
    "2. R\n",
    "3. SQL\n",
    "4. Julia\n",
    "5. Scala\n",
    "6. MATLAB\n"
   ]
  },
  {
   "cell_type": "markdown",
   "id": "912f46d0",
   "metadata": {},
   "source": [
    "Some of the commonly used libraries used by Data Scientists include:\n",
    "1. NumPy\n",
    "2. pandas\n",
    "3. matplotlib\n",
    "4. scikit-learn\n",
    "5. TensorFlow\n",
    "6. PyTorch\n",
    "7. Keras\n",
    "8. Seaborn\n",
    "9. Plotly\n",
    "10. NLTK\n",
    "11. BeautifulSoup\n",
    "12. Statsmodels\n"
   ]
  },
  {
   "cell_type": "markdown",
   "id": "0e45aeb9",
   "metadata": {},
   "source": [
    "| Tool           | Description                                       |\n",
    "|----------------|---------------------------------------------------|\n",
    "| Python         | General-purpose programming language with extensive libraries for data manipulation, analysis, and machine learning (e.g., NumPy, Pandas, Scikit-learn).|\n",
    "| R              | Statistical programming language with comprehensive packages for data analysis, visualization, and statistical modeling (e.g., ggplot2, dplyr, caret).|\n",
    "| Jupyter Notebook | Open-source web application that allows you to create and share documents containing live code, equations, visualizations, and narrative text.|\n",
    "| TensorFlow     | Open-source machine learning framework developed by Google for building and training neural networks and deep learning models.|\n",
    "| PyTorch        | Open-source deep learning framework developed by Facebook's AI Research lab, known for its dynamic computation graph and flexibility.|\n",
    "| scikit-learn   | Simple and efficient tools for data mining and data analysis, built on top of NumPy, SciPy, and matplotlib, providing easy-to-use implementations of common machine learning algorithms.|\n",
    "| Keras          | High-level neural networks API, written in Python and capable of running on top of TensorFlow, Theano, or Microsoft Cognitive Toolkit (CNTK). It is designed for quick experimentation and prototyping of deep learning models.|\n",
    "| Apache Spark   | Open-source distributed computing system that provides an interface for programming entire clusters with implicit data parallelism and fault tolerance. It's commonly used for large-scale data processing, including data preprocessing and machine learning tasks.|\n",
    "| SQL            | Structured Query Language used for managing relational databases. In data science, SQL is essential for data retrieval, manipulation, and analysis in databases such as MySQL, PostgreSQL, and SQLite.|\n",
    "| Tableau        | Data visualization software that allows users to create interactive and shareable dashboards, reports, and visualizations without requiring any programming knowledge.|\n"
   ]
  },
  {
   "cell_type": "markdown",
   "id": "58eb6ea4",
   "metadata": {},
   "source": [
    "### Below are a few examples of evaluating arithmetic expressions in Python"
   ]
  },
  {
   "cell_type": "code",
   "execution_count": 1,
   "id": "77c6a6e0",
   "metadata": {},
   "outputs": [
    {
     "data": {
      "text/plain": [
       "17"
      ]
     },
     "execution_count": 1,
     "metadata": {},
     "output_type": "execute_result"
    }
   ],
   "source": [
    "#This a simple arithmetic expression to mutiply then add integers\n",
    "(3*4)+5"
   ]
  },
  {
   "cell_type": "code",
   "execution_count": 2,
   "id": "63aba310",
   "metadata": {},
   "outputs": [
    {
     "data": {
      "text/plain": [
       "3.3333333333333335"
      ]
     },
     "execution_count": 2,
     "metadata": {},
     "output_type": "execute_result"
    }
   ],
   "source": [
    "# This will convert 200 minutes to hours by diving by 60\n",
    "200/60"
   ]
  },
  {
   "cell_type": "markdown",
   "id": "487e7041",
   "metadata": {},
   "source": [
    "Objectives:\n",
    "\n",
    "* List popular languages for Data Science\n",
    "* Introduce common libraries used by Data Scientists\n",
    "* Provide examples of arithmetic expressions\n"
   ]
  },
  {
   "cell_type": "markdown",
   "id": "f03bdbe3",
   "metadata": {},
   "source": [
    "## Author\n",
    "Vivek Pal"
   ]
  }
 ],
 "metadata": {
  "kernelspec": {
   "display_name": "Python 3 (ipykernel)",
   "language": "python",
   "name": "python3"
  },
  "language_info": {
   "codemirror_mode": {
    "name": "ipython",
    "version": 3
   },
   "file_extension": ".py",
   "mimetype": "text/x-python",
   "name": "python",
   "nbconvert_exporter": "python",
   "pygments_lexer": "ipython3",
   "version": "3.11.5"
  }
 },
 "nbformat": 4,
 "nbformat_minor": 5
}
